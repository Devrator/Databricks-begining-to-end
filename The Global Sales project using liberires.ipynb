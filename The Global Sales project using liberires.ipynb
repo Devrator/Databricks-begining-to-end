{
 "cells": [
  {
   "cell_type": "markdown",
   "metadata": {
    "application/vnd.databricks.v1+cell": {
     "cellMetadata": {
      "byteLimit": 2048000,
      "rowLimit": 10000
     },
     "inputWidgets": {},
     "nuid": "eadb3133-56db-4686-b252-6fdb0b3306df",
     "showTitle": false,
     "tableResultSettingsMap": {},
     "title": ""
    }
   },
   "source": [
    "# Project: “Global Sales Analysis”"
   ]
  },
  {
   "cell_type": "code",
   "execution_count": 0,
   "metadata": {
    "application/vnd.databricks.v1+cell": {
     "cellMetadata": {
      "byteLimit": 2048000,
      "rowLimit": 10000
     },
     "inputWidgets": {},
     "nuid": "478ac84b-556e-4aba-9960-a544d851a0e1",
     "showTitle": false,
     "tableResultSettingsMap": {},
     "title": ""
    }
   },
   "outputs": [],
   "source": [
    "#  Project: “Global Sales Analysis”\n",
    "# ✅ Project Overview\n",
    "# Your task is to analyze this dataset and answer business questions like:\n",
    "\n",
    "# Which region/country is most profitable?\n",
    "\n",
    "# Which item type sells best via online vs offline?\n",
    "\n",
    "# How do units sold correlate with profit?\n",
    "\n",
    "# You’ll use NumPy, Pandas, Matplotlib, all within Databricks.\n",
    "\n"
   ]
  },
  {
   "cell_type": "code",
   "execution_count": 0,
   "metadata": {
    "application/vnd.databricks.v1+cell": {
     "cellMetadata": {
      "byteLimit": 2048000,
      "rowLimit": 10000
     },
     "inputWidgets": {},
     "nuid": "03b60494-9646-4afe-b0cb-f80dd83e135f",
     "showTitle": false,
     "tableResultSettingsMap": {},
     "title": ""
    }
   },
   "outputs": [],
   "source": [
    "# In this this code we are importing pandas as pd\n",
    "# We are loading the csv data file\n",
    "# The display command\n",
    "\n",
    "\n",
    "import pandas as pd\n",
    "df = pd.read_csv(\"/Workspace/Users/deepakpvinodsharma@gmail.com/THE_LEARNING_BRICK/100 Sales Records.csv\")\n",
    "df.head()"
   ]
  },
  {
   "cell_type": "code",
   "execution_count": 0,
   "metadata": {
    "application/vnd.databricks.v1+cell": {
     "cellMetadata": {
      "byteLimit": 2048000,
      "rowLimit": 10000
     },
     "inputWidgets": {},
     "nuid": "a5f55e2d-b461-4a59-ab17-781115772377",
     "showTitle": false,
     "tableResultSettingsMap": {},
     "title": ""
    }
   },
   "outputs": [],
   "source": [
    "# In this command we are see the data types off the listed cols which are usefull for us to complete our objective\n",
    "\n",
    "df[['Units Sold','Total Revenue', 'Total Profit']].describe  "
   ]
  },
  {
   "cell_type": "code",
   "execution_count": 0,
   "metadata": {
    "application/vnd.databricks.v1+cell": {
     "cellMetadata": {
      "byteLimit": 2048000,
      "rowLimit": 10000
     },
     "inputWidgets": {},
     "nuid": "a796d618-e7b6-4b51-9e73-bf6165b9c46d",
     "showTitle": false,
     "tableResultSettingsMap": {},
     "title": ""
    }
   },
   "outputs": [],
   "source": [
    "# in this command we are determining the most profitable regions \n",
    "# by using groupby command which groups the cols and give sum using sum command and sor values using the command\n",
    "# plot command we are plotting the graph as per our need\n",
    "\n",
    "region_profit = df.groupby('Region')['Total Profit'].sum().sort_values()\n",
    "region_profit.plot(kind='barh', title='Profit by Region')\n"
   ]
  },
  {
   "cell_type": "code",
   "execution_count": 0,
   "metadata": {
    "application/vnd.databricks.v1+cell": {
     "cellMetadata": {
      "byteLimit": 2048000,
      "rowLimit": 10000
     },
     "inputWidgets": {},
     "nuid": "54f4c7b0-db1a-45fb-b8dd-f07ffbab4bbc",
     "showTitle": false,
     "tableResultSettingsMap": {},
     "title": ""
    }
   },
   "outputs": [],
   "source": [
    "# We are importing the matplotlib as plt\n",
    "\n",
    "import matplotlib.pyplot as plt\n",
    "\n",
    "# we are creating a channel and in it we are using the groupby command to group the cols and sum the units sold\n",
    "# we are using the unstack command to unstack the cols and plot the graph\n",
    "# we are using title command to give title to our graph\n",
    "# we are using the display command to display the graph\n",
    "\n",
    "channel = df.groupby(['Sales Channel','Item Type'])['Units Sold'].sum().unstack()\n",
    "channel.plot(kind= 'bar', stacked= True, figsize=(10, 5))\n",
    "plt.title(\"Units Sold by Channel & Item Type\")\n",
    "display(channel)\n"
   ]
  },
  {
   "cell_type": "code",
   "execution_count": 0,
   "metadata": {
    "application/vnd.databricks.v1+cell": {
     "cellMetadata": {
      "byteLimit": 2048000,
      "rowLimit": 10000
     },
     "inputWidgets": {},
     "nuid": "4859f833-d8ac-41fb-ba7a-926d79a58fca",
     "showTitle": false,
     "tableResultSettingsMap": {},
     "title": ""
    }
   },
   "outputs": [],
   "source": [
    "# In this command we are importing numpy as np\n",
    "# we are using the corr command to find the correlation between the cols\n",
    "# we are using the print command to print the correlation\n",
    "\n",
    "\n",
    "import numpy as np\n",
    "corr = df[['Units Sold', 'Total Revenue', 'Total Profit']].corr()\n",
    "print(corr)"
   ]
  },
  {
   "cell_type": "markdown",
   "metadata": {
    "application/vnd.databricks.v1+cell": {
     "cellMetadata": {},
     "inputWidgets": {},
     "nuid": "fb6148e0-7cfc-42ab-ab26-1d37927defb6",
     "showTitle": false,
     "tableResultSettingsMap": {},
     "title": ""
    }
   },
   "source": [
    "### the code given below is not nessary"
   ]
  },
  {
   "cell_type": "code",
   "execution_count": 0,
   "metadata": {
    "application/vnd.databricks.v1+cell": {
     "cellMetadata": {
      "byteLimit": 2048000,
      "rowLimit": 10000
     },
     "inputWidgets": {},
     "nuid": "9f42148d-24e4-42be-a2f8-60a5bc8b7146",
     "showTitle": false,
     "tableResultSettingsMap": {},
     "title": ""
    }
   },
   "outputs": [],
   "source": [
    "df['Order Date'] = pd.to_datetime(df['Order Date'])\n",
    "df['Month'] = df['Order Date'].dt.to_period('M')\n",
    "monthly = df.groupby('Month')['Total Revenue'].sum()\n",
    "monthly.plot(kind='line', marker='o', title='Monthly Revenue Trend')\n",
    "plt.xticks(rotation=45)\n",
    "plt.show()"
   ]
  },
  {
   "cell_type": "markdown",
   "metadata": {
    "application/vnd.databricks.v1+cell": {
     "cellMetadata": {},
     "inputWidgets": {},
     "nuid": "173e0f81-856b-4306-b29e-a551d5e783ac",
     "showTitle": false,
     "tableResultSettingsMap": {},
     "title": ""
    }
   },
   "source": [
    "# THE PROJECT HAS BEEN ENDED"
   ]
  },
  {
   "cell_type": "code",
   "execution_count": 0,
   "metadata": {
    "application/vnd.databricks.v1+cell": {
     "cellMetadata": {},
     "inputWidgets": {},
     "nuid": "136a9bcc-6c28-4440-900d-781d7d814494",
     "showTitle": false,
     "tableResultSettingsMap": {},
     "title": ""
    }
   },
   "outputs": [],
   "source": []
  }
 ],
 "metadata": {
  "application/vnd.databricks.v1+notebook": {
   "computePreferences": null,
   "dashboards": [],
   "environmentMetadata": {
    "base_environment": "",
    "environment_version": "2"
   },
   "inputWidgetPreferences": null,
   "language": "python",
   "notebookMetadata": {
    "pythonIndentUnit": 4
   },
   "notebookName": "The Global Sales project using liberires",
   "widgets": {}
  },
  "language_info": {
   "name": "python"
  }
 },
 "nbformat": 4,
 "nbformat_minor": 0
}
