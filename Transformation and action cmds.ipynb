{
 "cells": [
  {
   "cell_type": "code",
   "execution_count": 0,
   "metadata": {
    "application/vnd.databricks.v1+cell": {
     "cellMetadata": {
      "byteLimit": 2048000,
      "rowLimit": 10000
     },
     "inputWidgets": {},
     "nuid": "70fd3291-135e-4b0f-ac4f-f3221cf8d58e",
     "showTitle": false,
     "tableResultSettingsMap": {},
     "title": ""
    }
   },
   "outputs": [],
   "source": [
    "df.show()"
   ]
  },
  {
   "cell_type": "code",
   "execution_count": 0,
   "metadata": {
    "application/vnd.databricks.v1+cell": {
     "cellMetadata": {
      "byteLimit": 2048000,
      "rowLimit": 10000
     },
     "inputWidgets": {},
     "nuid": "52b60c39-c0d6-4b9f-91aa-69e6e7143073",
     "showTitle": false,
     "tableResultSettingsMap": {},
     "title": ""
    }
   },
   "outputs": [],
   "source": [
    "df = spark.read.csv(\"/Workspace/2010-summary.csv\", header=True, inferSchema=True)\n",
    "display(df)"
   ]
  },
  {
   "cell_type": "code",
   "execution_count": 0,
   "metadata": {
    "application/vnd.databricks.v1+cell": {
     "cellMetadata": {
      "byteLimit": 2048000,
      "rowLimit": 10000
     },
     "inputWidgets": {},
     "nuid": "cc475248-d4a6-4730-ba46-e0ca1a343ee8",
     "showTitle": false,
     "tableResultSettingsMap": {},
     "title": ""
    }
   },
   "outputs": [],
   "source": [
    "data = \"\"\"DEST_COUNTRY_NAME,ORIGIN_COUNTRY_NAME,count\n",
    "United States,Romania,1\n",
    "United States,Ireland,264\n",
    "United States,India,69\n",
    "Egypt,United States,24\n",
    "Equatorial Guinea,United States,1\n",
    "United States,Singapore,25\n",
    "United States,Grenada,54\n",
    "Costa Rica,United States,477\n",
    "Senegal,United States,29\n",
    "United States,Marshall Islands,44\n",
    "Guyana,United States,17\n",
    "United States,Sint Maarten,53\n",
    "Malta,United States,1\n",
    "Bolivia,United States,46\n",
    "Anguilla,United States,21\"\"\"\n",
    "\n",
    "with open(\"/Workspace/output.csv\", \"w\") as file:\n",
    "    file.write(data)"
   ]
  },
  {
   "cell_type": "code",
   "execution_count": 0,
   "metadata": {
    "application/vnd.databricks.v1+cell": {
     "cellMetadata": {
      "byteLimit": 2048000,
      "rowLimit": 10000
     },
     "inputWidgets": {},
     "nuid": "72f54cc4-9cf8-4555-a518-3fa4df966342",
     "showTitle": false,
     "tableResultSettingsMap": {},
     "title": ""
    }
   },
   "outputs": [],
   "source": [
    "df=spark.read.csv(\"/Workspace/output.csv\", header=True, inferSchema=True, mode=\"ignore\")\n",
    "display(df)"
   ]
  },
  {
   "cell_type": "code",
   "execution_count": 0,
   "metadata": {
    "application/vnd.databricks.v1+cell": {
     "cellMetadata": {
      "byteLimit": 2048000,
      "rowLimit": 10000
     },
     "inputWidgets": {},
     "nuid": "ddf2383e-c590-4e48-b9c1-216709b799ed",
     "showTitle": false,
     "tableResultSettingsMap": {},
     "title": ""
    }
   },
   "outputs": [],
   "source": [
    "%python"
   ]
  },
  {
   "cell_type": "code",
   "execution_count": 0,
   "metadata": {
    "application/vnd.databricks.v1+cell": {
     "cellMetadata": {
      "byteLimit": 2048000,
      "rowLimit": 10000
     },
     "inputWidgets": {},
     "nuid": "b16c50da-0b3f-4564-849b-2e71141a9d28",
     "showTitle": false,
     "tableResultSettingsMap": {},
     "title": ""
    }
   },
   "outputs": [],
   "source": [
    "df.spark.read.csv(\"/Workspace/Users/deepakpvinodsharma@gmail.com/2010-summary.csv\", header=True, inferSchema=True, mode=\"ignore\").write"
   ]
  },
  {
   "cell_type": "code",
   "execution_count": 0,
   "metadata": {
    "application/vnd.databricks.v1+cell": {
     "cellMetadata": {
      "byteLimit": 2048000,
      "rowLimit": 10000
     },
     "inputWidgets": {},
     "nuid": "9f57996b-428b-4740-8f1b-44343bd866f3",
     "showTitle": false,
     "tableResultSettingsMap": {},
     "title": ""
    }
   },
   "outputs": [],
   "source": [
    "%python\n",
    "df = spark.read.csv(\n",
    "    \"/Workspace/Users/deepakpvinodsharma@gmail.com/2010-summary.csv\",\n",
    "    header=True,\n",
    "    inferSchema=True,\n",
    "    mode=\"ignore\"\n",
    ")\n",
    "display(df)"
   ]
  },
  {
   "cell_type": "code",
   "execution_count": 0,
   "metadata": {
    "application/vnd.databricks.v1+cell": {
     "cellMetadata": {
      "byteLimit": 2048000,
      "rowLimit": 10000
     },
     "inputWidgets": {},
     "nuid": "e3816b5f-b351-479c-a2d3-a9ee6d594291",
     "showTitle": false,
     "tableResultSettingsMap": {},
     "title": ""
    }
   },
   "outputs": [],
   "source": [
    "from pyspark.sql.functions import *\n",
    "from pyspark.sql.types import *\n",
    "from pyspark.sql.functions import *\n",
    "from pyspark.sql.types import *"
   ]
  },
  {
   "cell_type": "code",
   "execution_count": 0,
   "metadata": {
    "application/vnd.databricks.v1+cell": {
     "cellMetadata": {
      "byteLimit": 2048000,
      "rowLimit": 10000
     },
     "inputWidgets": {},
     "nuid": "5e0efebf-c0d5-4b92-8306-d50ee75afc96",
     "showTitle": false,
     "tableResultSettingsMap": {},
     "title": ""
    }
   },
   "outputs": [],
   "source": [
    "data = [\n",
    "    (\"United States\", \"Romania\", 1),\n",
    "    (\"United States\", \"Ireland\", 264),\n",
    "    (\"United States\", \"India\", 69),\n",
    "    (\"Egypt\", \"United States\", 24),\n",
    "    (\"Equatorial Guinea\", \"United States\", 1),\n",
    "    (\"United States\", \"Singapore\", 25),\n",
    "    (\"United States\", \"Grenada\", 54),\n",
    "    (\"Costa Rica\", \"United States\", 477),\n",
    "    (\"Senegal\", \"United States\", 29),\n",
    "    (\"United States\", \"Marshall Islands\", 44),\n",
    "    (\"Guyana\", \"United States\", 17),\n",
    "    (\"United States\", \"Sint Maarten\", 53),\n",
    "    (\"Malta\", \"United States\", 1),\n",
    "    (\"Bolivia\", \"United States\", 46),\n",
    "    (\"Anguilla\", \"United States\", 21),\n",
    "    (\"Turks and Caicos Islands\", \"United States\", 136),\n",
    "    (\"United States\", \"Afghanistan\", 2),\n",
    "    (\"Saint Vincent and the Grenadines\", \"United States\", 1),\n",
    "    (\"Italy\", \"United States\", 390),\n",
    "    (\"United States\", \"Russia\", 156),\n",
    "    (\"United States\", \"Federated States of Micronesia\", 48),\n",
    "    (\"Pakistan\", \"United States\", 9),\n",
    "    (\"United States\", \"Netherlands\", 570),\n",
    "    (\"Iceland\", \"United States\", 118),\n",
    "    (\"Marshall Islands\", \"United States\", 77)\n",
    "]\n",
    "schema = [\"origin\", \"destination\", \"count\"]\n",
    "Flight_df = spark.createDataFrame(data, schema)\n",
    "display(Flight_df)"
   ]
  },
  {
   "cell_type": "code",
   "execution_count": 0,
   "metadata": {
    "application/vnd.databricks.v1+cell": {
     "cellMetadata": {
      "byteLimit": 2048000,
      "rowLimit": 10000
     },
     "inputWidgets": {},
     "nuid": "d5de5e9c-a1bd-4d65-a298-58c867f7fcda",
     "showTitle": false,
     "tableResultSettingsMap": {},
     "title": ""
    }
   },
   "outputs": [],
   "source": [
    "data = [(1, 2), (2, 1), (3, 4), (4, 5)]\n",
    "schema = [\"id\", \"value\"]\n",
    "Test_df = spark.createDataFrame(data, schema)\n",
    "display(df)"
   ]
  },
  {
   "cell_type": "code",
   "execution_count": 0,
   "metadata": {
    "application/vnd.databricks.v1+cell": {
     "cellMetadata": {
      "byteLimit": 2048000,
      "rowLimit": 10000
     },
     "inputWidgets": {},
     "nuid": "721a4123-0762-486b-ae54-4a3b3533660b",
     "showTitle": false,
     "tableResultSettingsMap": {},
     "title": ""
    }
   },
   "outputs": [],
   "source": [
    "df.printSchema()\n",
    "df.show()"
   ]
  },
  {
   "cell_type": "code",
   "execution_count": 0,
   "metadata": {
    "application/vnd.databricks.v1+cell": {
     "cellMetadata": {
      "byteLimit": 2048000,
      "rowLimit": 10000
     },
     "inputWidgets": {},
     "nuid": "2fdac73f-68a4-4e37-8280-b476de4a6da2",
     "showTitle": false,
     "tableResultSettingsMap": {},
     "title": ""
    }
   },
   "outputs": [],
   "source": [
    "Test_df.select(\"id\").show()"
   ]
  },
  {
   "cell_type": "code",
   "execution_count": 0,
   "metadata": {
    "application/vnd.databricks.v1+cell": {
     "cellMetadata": {
      "byteLimit": 2048000,
      "rowLimit": 10000
     },
     "inputWidgets": {},
     "nuid": "36e783dc-530d-4e4a-a4d6-8023c72e87f8",
     "showTitle": false,
     "tableResultSettingsMap": {},
     "title": ""
    }
   },
   "outputs": [],
   "source": [
    "Test_df.select(col(\"id\") +5).show()"
   ]
  },
  {
   "cell_type": "markdown",
   "metadata": {
    "application/vnd.databricks.v1+cell": {
     "cellMetadata": {},
     "inputWidgets": {},
     "nuid": "d449e208-c036-493c-a709-1e7225cd2e56",
     "showTitle": false,
     "tableResultSettingsMap": {},
     "title": ""
    }
   },
   "source": [
    "ALIAS TOOL"
   ]
  },
  {
   "cell_type": "code",
   "execution_count": 0,
   "metadata": {
    "application/vnd.databricks.v1+cell": {
     "cellMetadata": {
      "byteLimit": 2048000,
      "rowLimit": 10000
     },
     "inputWidgets": {},
     "nuid": "9982f935-b63d-45c8-9ea4-949b9340d4fa",
     "showTitle": false,
     "tableResultSettingsMap": {},
     "title": ""
    }
   },
   "outputs": [],
   "source": [
    "Test_df.select(col(\"id\").alias(\"Employee_id\"),\"Value\").show()"
   ]
  },
  {
   "cell_type": "markdown",
   "metadata": {
    "application/vnd.databricks.v1+cell": {
     "cellMetadata": {},
     "inputWidgets": {},
     "nuid": "f17417d5-c6ec-4d40-be45-5b13e8dd0e9d",
     "showTitle": false,
     "tableResultSettingsMap": {},
     "title": ""
    }
   },
   "source": [
    "Filter in df"
   ]
  },
  {
   "cell_type": "code",
   "execution_count": 0,
   "metadata": {
    "application/vnd.databricks.v1+cell": {
     "cellMetadata": {
      "byteLimit": 2048000,
      "rowLimit": 10000
     },
     "inputWidgets": {},
     "nuid": "fbbcb5c0-d650-4338-a09e-47647bd5a6ac",
     "showTitle": false,
     "tableResultSettingsMap": {},
     "title": ""
    }
   },
   "outputs": [],
   "source": [
    "Flight_df.select(\"*\").filter(col(\"count\") > 100).show()\n",
    "Flight_df.select(\"origin\", \"destination\").show(truncate=False)"
   ]
  },
  {
   "cell_type": "markdown",
   "metadata": {
    "application/vnd.databricks.v1+cell": {
     "cellMetadata": {},
     "inputWidgets": {},
     "nuid": "cbe5bfc8-a5e4-4231-b4cb-281c16c5c0f2",
     "showTitle": false,
     "tableResultSettingsMap": {},
     "title": ""
    }
   },
   "source": [
    "IF ELSE IN PYSPARK"
   ]
  },
  {
   "cell_type": "code",
   "execution_count": 0,
   "metadata": {
    "application/vnd.databricks.v1+cell": {
     "cellMetadata": {
      "byteLimit": 2048000,
      "rowLimit": 10000
     },
     "inputWidgets": {},
     "nuid": "0a4c6563-8093-4a71-badb-5887e5719532",
     "showTitle": false,
     "tableResultSettingsMap": {},
     "title": ""
    }
   },
   "outputs": [],
   "source": [
    "\n",
    "emp_data = [\n",
    "(1,'manish',26,20000,'india','IT'),\n",
    "(2,'rahul',None,40000,'germany','engineering'),\n",
    "(3,'pawan',12,60000,'india','sales'),\n",
    "(4,'roshini',44,None,'uk','engineering'),\n",
    "(5,'raushan',35,70000,'india','sales'),\n",
    "(6,None,29,200000,'uk','IT'),\n",
    "(7,'adam',37,65000,'us','IT'),\n",
    "(8,'chris',16,40000,'us','sales'),\n",
    "(None,None,None,None,None,None),\n",
    "(7,'adam',37,65000,'us','IT')\n",
    "]\n",
    "emp_schema = [\"id\",\"name\",\"age\",\"salary\",\"country\",\"department\"]\n",
    "emp_df = spark.createDataFrame(emp_data,emp_schema)\n",
    "display(emp_df)"
   ]
  },
  {
   "cell_type": "code",
   "execution_count": 0,
   "metadata": {
    "application/vnd.databricks.v1+cell": {
     "cellMetadata": {
      "byteLimit": 2048000,
      "rowLimit": 10000
     },
     "inputWidgets": {},
     "nuid": "ef22d5ff-882f-4aa4-8ca1-be324c451e81",
     "showTitle": false,
     "tableResultSettingsMap": {},
     "title": ""
    }
   },
   "outputs": [],
   "source": [
    "from pyspark.sql.functions import when, col\n",
    "\n",
    "emp_df.withColumn(\"adult\", \n",
    "                  when(col(\"age\") >= 18, \"Yes\")\n",
    "                  .when(col(\"age\") < 18, \"No\")\n",
    "                  .otherwise(\"Unknown\")\n",
    "                 ).show()"
   ]
  },
  {
   "cell_type": "markdown",
   "metadata": {
    "application/vnd.databricks.v1+cell": {
     "cellMetadata": {},
     "inputWidgets": {},
     "nuid": "96869ab9-83df-4618-b2fb-e44ce3cbbfbb",
     "showTitle": false,
     "tableResultSettingsMap": {},
     "title": ""
    }
   },
   "source": [
    "Sort comand"
   ]
  },
  {
   "cell_type": "code",
   "execution_count": 0,
   "metadata": {
    "application/vnd.databricks.v1+cell": {
     "cellMetadata": {
      "byteLimit": 2048000,
      "rowLimit": 10000
     },
     "inputWidgets": {},
     "nuid": "3edbcea2-6f00-4a06-93f2-eca4a070597d",
     "showTitle": false,
     "tableResultSettingsMap": {},
     "title": ""
    }
   },
   "outputs": [],
   "source": [
    "sorted_ages_df = emp_df.orderBy(\"age\")\n",
    "display(sorted_ages_df)"
   ]
  },
  {
   "cell_type": "code",
   "execution_count": 0,
   "metadata": {
    "application/vnd.databricks.v1+cell": {
     "cellMetadata": {
      "byteLimit": 2048000,
      "rowLimit": 10000
     },
     "inputWidgets": {},
     "nuid": "63affc9d-4388-4d4d-bf56-92553f6c9a07",
     "showTitle": false,
     "tableResultSettingsMap": {},
     "title": ""
    }
   },
   "outputs": [],
   "source": [
    "leet_code_data = [\n",
    "    (1, 'Will', None),\n",
    "    (2, 'Jane', None),\n",
    "    (3, 'Alex', 2),\n",
    "    (4, 'Bill', None),\n",
    "    (5, 'Zack', 1),\n",
    "    (6, 'Mark', 2)\n",
    "]\n",
    "leet_code_schema = [\"id\", \"name\", \"referred_by\"]\n",
    "leet_code_df = spark.createDataFrame(leet_code_data, leet_code_schema)\n",
    "display(leet_code_df)"
   ]
  },
  {
   "cell_type": "code",
   "execution_count": 0,
   "metadata": {
    "application/vnd.databricks.v1+cell": {
     "cellMetadata": {
      "byteLimit": 2048000,
      "rowLimit": 10000
     },
     "inputWidgets": {},
     "nuid": "5736c4d0-10f9-4bc0-a65b-b68170cfa106",
     "showTitle": false,
     "tableResultSettingsMap": {},
     "title": ""
    }
   },
   "outputs": [],
   "source": [
    "from pyspark.sql.functions import col\n",
    "\n",
    "not_referred_by_2_df = leet_code_df.filter((leet_code_df.referred_by != 2) | col(\"referred_by\").isNull())\n",
    "display(not_referred_by_2_df)"
   ]
  },
  {
   "cell_type": "code",
   "execution_count": 0,
   "metadata": {
    "application/vnd.databricks.v1+cell": {
     "cellMetadata": {
      "byteLimit": 2048000,
      "rowLimit": 10000
     },
     "inputWidgets": {},
     "nuid": "8b6458af-cd20-428d-a32b-b5931a0f11eb",
     "showTitle": false,
     "tableResultSettingsMap": {},
     "title": ""
    }
   },
   "outputs": [],
   "source": [
    "%fs ls /"
   ]
  },
  {
   "cell_type": "code",
   "execution_count": 0,
   "metadata": {
    "application/vnd.databricks.v1+cell": {
     "cellMetadata": {
      "byteLimit": 2048000,
      "rowLimit": 10000
     },
     "inputWidgets": {},
     "nuid": "a9b4e50c-7d8e-45e1-a6a8-e763f53d0c17",
     "showTitle": false,
     "tableResultSettingsMap": {},
     "title": ""
    }
   },
   "outputs": [],
   "source": [
    "dbutils.fs.ls"
   ]
  },
  {
   "cell_type": "code",
   "execution_count": 0,
   "metadata": {
    "application/vnd.databricks.v1+cell": {
     "cellMetadata": {
      "byteLimit": 2048000,
      "rowLimit": 10000
     },
     "inputWidgets": {},
     "nuid": "d104d630-e874-4ab5-925d-d02be9dbe548",
     "showTitle": false,
     "tableResultSettingsMap": {},
     "title": ""
    }
   },
   "outputs": [],
   "source": [
    "dbutils.fs.cp"
   ]
  },
  {
   "cell_type": "code",
   "execution_count": 0,
   "metadata": {
    "application/vnd.databricks.v1+cell": {
     "cellMetadata": {
      "byteLimit": 2048000,
      "rowLimit": 10000
     },
     "inputWidgets": {},
     "nuid": "1d491557-10b9-4b5a-be5f-3b86a836563a",
     "showTitle": false,
     "tableResultSettingsMap": {},
     "title": ""
    }
   },
   "outputs": [],
   "source": [
    "from pyspark.sql import SparkSession"
   ]
  },
  {
   "cell_type": "code",
   "execution_count": 0,
   "metadata": {
    "application/vnd.databricks.v1+cell": {
     "cellMetadata": {
      "byteLimit": 2048000,
      "rowLimit": 10000
     },
     "inputWidgets": {},
     "nuid": "8bc3eea3-3b72-4b8a-92fd-ac3f2baf9835",
     "showTitle": false,
     "tableResultSettingsMap": {},
     "title": ""
    }
   },
   "outputs": [],
   "source": [
    "spark = SparkSession.builder.appName(\"app\").getOrCreate()"
   ]
  },
  {
   "cell_type": "code",
   "execution_count": 0,
   "metadata": {
    "application/vnd.databricks.v1+cell": {
     "cellMetadata": {
      "byteLimit": 2048000,
      "rowLimit": 10000
     },
     "inputWidgets": {},
     "nuid": "9acdbc5b-a24e-45cf-a79c-a72f2d6cc98a",
     "showTitle": false,
     "tableResultSettingsMap": {},
     "title": ""
    }
   },
   "outputs": [],
   "source": [
    "airDF = spark.read.parquet(\"Workspace/Users/deepakpvinodsharma@gmail.com/ML_Data.parquet\")"
   ]
  },
  {
   "cell_type": "code",
   "execution_count": 0,
   "metadata": {
    "application/vnd.databricks.v1+cell": {
     "cellMetadata": {
      "byteLimit": 2048000,
      "rowLimit": 10000
     },
     "inputWidgets": {},
     "nuid": "39ea2381-7c6c-4077-9313-aa75e2b2fd55",
     "showTitle": false,
     "tableResultSettingsMap": {},
     "title": ""
    }
   },
   "outputs": [],
   "source": [
    "from pyspark.sql import SparkSession\n",
    "from pyspark.sql.utils import AnalysisException\n",
    "import time\n",
    "\n",
    "# Create a Spark session\n",
    "spark = SparkSession.builder.appName(\"AirbnbData\").getOrCreate()\n",
    "\n",
    "data = [\n",
    "    (\"Downtown\", \"Entire home/apt\", 1, 1, 9, 100),\n",
    "    (\"Capitol Hill\", \"Private room\", 1, 1, 45, 75),\n",
    "    (\"Ballard\", \"Entire home/apt\", 2, 1, 30, 150),\n",
    "    (\"Queen Anne\", \"Shared room\", 1, 1, 2, 50),\n",
    "    (\"West Seattle\", \"Entire home/apt\", 3, 2, 18, 200)\n",
    "]\n",
    "\n",
    "airbnbDF_Schema = [\"neighbourhood_cleansed\", \"room_type\", \"bedrooms\", \"bathrooms\", \"number_of_reviews\", \"price\"]\n",
    "\n",
    "# Retry mechanism\n",
    "max_retries = 5\n",
    "retry_count = 0\n",
    "while retry_count < max_retries:\n",
    "    try:\n",
    "        airbnbDF = spark.createDataFrame(data, schema=airbnbDF_Schema)\n",
    "        display(airbnbDF.limit(5))\n",
    "        break\n",
    "    except AnalysisException as e:\n",
    "        retry_count += 1\n",
    "        print(f\"Retry {retry_count}/{max_retries} failed: {e}\")\n",
    "        time.sleep(5)  # Wait for 5 seconds before retrying\n",
    "else:\n",
    "    print(\"Failed to create DataFrame after maximum retries.\")"
   ]
  },
  {
   "cell_type": "code",
   "execution_count": 0,
   "metadata": {
    "application/vnd.databricks.v1+cell": {
     "cellMetadata": {
      "byteLimit": 2048000,
      "rowLimit": 10000
     },
     "inputWidgets": {},
     "nuid": "da8415b6-d475-4944-b465-4cc9a7d36b45",
     "showTitle": false,
     "tableResultSettingsMap": {},
     "title": ""
    }
   },
   "outputs": [],
   "source": [
    "df = spark.read.csv(\"path/to/your/csvfile.csv\", header=True, inferSchema=True, mode=\"failfast\")"
   ]
  },
  {
   "cell_type": "code",
   "execution_count": 0,
   "metadata": {
    "application/vnd.databricks.v1+cell": {
     "cellMetadata": {
      "byteLimit": 2048000,
      "rowLimit": 10000
     },
     "inputWidgets": {},
     "nuid": "d6412a48-272f-473b-9278-4751e8c9ca45",
     "showTitle": false,
     "tableResultSettingsMap": {},
     "title": ""
    }
   },
   "outputs": [],
   "source": [
    "data = [\n",
    "    (\"Downtown\", \"Entire home/apt\", 1, 1, 9, 100),\n",
    "    (\"Capitol Hill\", \"Private room\", 1, 1, 45, 75),\n",
    "    (\"Ballard\", \"Entire home/apt\", 2, 1, 30, 150),\n",
    "    (\"Queen Anne\", \"Shared room\", 1, 1, 2, 50),\n",
    "    (\"West Seattle\", \"Entire home/apt\", 3, 2, 18, 200)\n",
    "]"
   ]
  },
  {
   "cell_type": "code",
   "execution_count": 0,
   "metadata": {
    "application/vnd.databricks.v1+cell": {
     "cellMetadata": {
      "byteLimit": 2048000,
      "rowLimit": 10000
     },
     "inputWidgets": {},
     "nuid": "5ff53c0e-cd00-4e55-89d2-7cdeb41d5647",
     "showTitle": false,
     "tableResultSettingsMap": {},
     "title": ""
    }
   },
   "outputs": [],
   "source": [
    "data_schema = [\"neighbourhood\", \"room_type\", \"bedrooms\", \"bathrooms\", \"number_of_reviews\", \"price\"]\n",
    "data_df = spark.createDataFrame(data, schema=data_schema)"
   ]
  },
  {
   "cell_type": "code",
   "execution_count": 0,
   "metadata": {
    "application/vnd.databricks.v1+cell": {
     "cellMetadata": {
      "byteLimit": 2048000,
      "rowLimit": 10000
     },
     "inputWidgets": {},
     "nuid": "28682811-9940-4001-b0bf-30696a46f72b",
     "showTitle": false,
     "tableResultSettingsMap": {},
     "title": ""
    }
   },
   "outputs": [],
   "source": [
    "display(data_df)"
   ]
  },
  {
   "cell_type": "code",
   "execution_count": 0,
   "metadata": {
    "application/vnd.databricks.v1+cell": {
     "cellMetadata": {},
     "inputWidgets": {},
     "nuid": "bd04b8d1-1811-411a-964c-6b59232af81b",
     "showTitle": false,
     "tableResultSettingsMap": {},
     "title": ""
    }
   },
   "outputs": [],
   "source": []
  }
 ],
 "metadata": {
  "application/vnd.databricks.v1+notebook": {
   "computePreferences": null,
   "dashboards": [],
   "environmentMetadata": {
    "base_environment": "",
    "environment_version": "2"
   },
   "inputWidgetPreferences": null,
   "language": "python",
   "notebookMetadata": {
    "mostRecentlyExecutedCommandWithImplicitDF": {
     "commandId": 8127877430802687,
     "dataframes": [
      "_sqldf"
     ]
    },
    "pythonIndentUnit": 4
   },
   "notebookName": "Transformation and action cmds",
   "widgets": {}
  },
  "language_info": {
   "name": "python"
  }
 },
 "nbformat": 4,
 "nbformat_minor": 0
}
