{
 "cells": [
  {
   "cell_type": "code",
   "execution_count": 0,
   "metadata": {
    "application/vnd.databricks.v1+cell": {
     "cellMetadata": {
      "byteLimit": 2048000,
      "rowLimit": 10000
     },
     "inputWidgets": {},
     "nuid": "83d3d7eb-b6d6-4d7f-93a4-0d3b6493711e",
     "showTitle": false,
     "tableResultSettingsMap": {},
     "title": ""
    }
   },
   "outputs": [],
   "source": [
    "# first we import liberires\n",
    "from pyspark.sql import SparkSession\n",
    "from pyspark.sql.functions import col, sum, desc, month, year, to_date"
   ]
  },
  {
   "cell_type": "code",
   "execution_count": 0,
   "metadata": {
    "application/vnd.databricks.v1+cell": {
     "cellMetadata": {
      "byteLimit": 2048000,
      "rowLimit": 10000
     },
     "inputWidgets": {},
     "nuid": "3baf4f14-12e5-41a7-8e43-6cb6f5664c31",
     "showTitle": false,
     "tableResultSettingsMap": {},
     "title": ""
    }
   },
   "outputs": [],
   "source": [
    "# now we load the data\n",
    "file_path = \"/Workspace/Users/deepakpvinodsharma@gmail.com/THE_LEARNING_BRICK/Databricks-begining-to-end/Sample - Superstore.csv\"\n",
    "df = spark.read.csv(file_path, header=True, inferSchema=True)"
   ]
  },
  {
   "cell_type": "code",
   "execution_count": 0,
   "metadata": {
    "application/vnd.databricks.v1+cell": {
     "cellMetadata": {
      "byteLimit": 2048000,
      "rowLimit": 10000
     },
     "inputWidgets": {},
     "nuid": "939d7b54-2276-4945-86d4-edc96257d5be",
     "showTitle": false,
     "tableResultSettingsMap": {},
     "title": ""
    }
   },
   "outputs": [],
   "source": [
    "# now we clean the column names\n",
    "for col in df.columns:\n",
    "    df = df.withColumnRenamed(col, col.strip().replace(\" \", \"_\"))"
   ]
  },
  {
   "cell_type": "code",
   "execution_count": 0,
   "metadata": {
    "application/vnd.databricks.v1+cell": {
     "cellMetadata": {
      "byteLimit": 2048000,
      "rowLimit": 10000
     },
     "inputWidgets": {},
     "nuid": "8a5accaa-e4a1-4505-8b96-d444a81127c7",
     "showTitle": false,
     "tableResultSettingsMap": {},
     "title": ""
    }
   },
   "outputs": [],
   "source": [
    "# now we create dataframe as temperary view\n",
    "df.createOrReplaceTempView(\"sales\")"
   ]
  },
  {
   "cell_type": "code",
   "execution_count": 0,
   "metadata": {
    "application/vnd.databricks.v1+cell": {
     "cellMetadata": {
      "byteLimit": 2048000,
      "rowLimit": 10000
     },
     "inputWidgets": {},
     "nuid": "1b80aa60-45d0-48b7-8332-44f1f2bd8e30",
     "showTitle": false,
     "tableResultSettingsMap": {},
     "title": ""
    }
   },
   "outputs": [],
   "source": [
    "# now we create total sales category \n",
    "query1 = spark.sql(\"\"\" SELECT category, ROUND(SUM(\"Sales\"), 2), AS Total_sales\n",
    "                   From samples\n",
    "                   Group BY category\n",
    "                   ORDER BY Total_sales DESC\n",
    "                   \"\"\").query1.show()"
   ]
  },
  {
   "cell_type": "code",
   "execution_count": 0,
   "metadata": {
    "application/vnd.databricks.v1+cell": {
     "cellMetadata": {
      "byteLimit": 2048000,
      "rowLimit": 10000
     },
     "inputWidgets": {},
     "nuid": "30ec78e8-86cf-4612-9e38-1c59271ec5d3",
     "showTitle": false,
     "tableResultSettingsMap": {},
     "title": ""
    }
   },
   "outputs": [],
   "source": [
    "# monthly sales trend\n",
    "from pyspark.sql.functions import month, year, to_date\n",
    "df_with_month = df.withColumn(\"Month\", month(\"Order_Date\")).withColumn(\"Year\", year(\"Order_Date\"))\n",
    "df_with_month.createOrReplaceTempView(\"sales_by_month\")\n",
    "\n",
    "query2 = spark.sql(\"\"\" SELECT Year, Month, Round(SUM(\"Sales\"), 2) AS Total_Sales \n",
    "                       FROM sales_by_month\n",
    "                       GROUP BY Year, month\n",
    "                       ORDER BY Year, month\n",
    "                   \"\"\")\n",
    "query2.show()"
   ]
  },
  {
   "cell_type": "code",
   "execution_count": 0,
   "metadata": {
    "application/vnd.databricks.v1+cell": {
     "cellMetadata": {
      "byteLimit": 2048000,
      "rowLimit": 10000
     },
     "inputWidgets": {},
     "nuid": "7010e2fc-204d-4810-b2ec-d614c511e6be",
     "showTitle": false,
     "tableResultSettingsMap": {},
     "title": ""
    }
   },
   "outputs": [],
   "source": [
    "# customer names\n",
    "query3 = spark.sql(\"\"\" SELECT Customer_Name, Round(SUM(Sales), 2), AS Total_Sales\n",
    "                   FROM sales\n",
    "                   GROUP BY Customer_Name\n",
    "                   ORDER BY Total_Sales DESC\n",
    "                   LIMIT 10\n",
    "\n",
    "                   \"\"\")\n",
    "query3.show()"
   ]
  },
  {
   "cell_type": "code",
   "execution_count": 0,
   "metadata": {
    "application/vnd.databricks.v1+cell": {
     "cellMetadata": {
      "byteLimit": 2048000,
      "rowLimit": 10000
     },
     "inputWidgets": {},
     "nuid": "3faaec8c-6e80-4b8c-bb9d-806101e75d5f",
     "showTitle": false,
     "tableResultSettingsMap": {},
     "title": ""
    }
   },
   "outputs": [],
   "source": [
    "# Maximum loss\n",
    "query4 = spark.sql(\"\"\" SELECT Region, Round(SUM(Sales), 2), AS Total_Sales\n",
    "                   FROM sales\n",
    "                     GROUP BY Region\n",
    "                     ORDER BY Total_Sales ASC\n",
    "                     LIMIT 1\n",
    "                     \"\"\")\n",
    "query4.show()"
   ]
  },
  {
   "cell_type": "code",
   "execution_count": 0,
   "metadata": {
    "application/vnd.databricks.v1+cell": {
     "cellMetadata": {
      "byteLimit": 2048000,
      "rowLimit": 10000
     },
     "inputWidgets": {},
     "nuid": "4b65b3ce-73ef-4cdf-a278-904b9521154f",
     "showTitle": false,
     "tableResultSettingsMap": {},
     "title": ""
    }
   },
   "outputs": [],
   "source": [
    "query1.write.mode(\"overwrite\").save(\"/Workspace/Users/deepakpvinodsharma@gmail.com/THE_LEARNING_BRICK/Databricks-begining-to-end/Sample - Superstore.csv\")"
   ]
  },
  {
   "cell_type": "code",
   "execution_count": 0,
   "metadata": {
    "application/vnd.databricks.v1+cell": {
     "cellMetadata": {},
     "inputWidgets": {},
     "nuid": "f599f7aa-c921-47d1-926e-79a456d8f5b5",
     "showTitle": false,
     "tableResultSettingsMap": {},
     "title": ""
    }
   },
   "outputs": [],
   "source": []
  }
 ],
 "metadata": {
  "application/vnd.databricks.v1+notebook": {
   "computePreferences": null,
   "dashboards": [],
   "environmentMetadata": {
    "base_environment": "",
    "environment_version": "2"
   },
   "inputWidgetPreferences": null,
   "language": "python",
   "notebookMetadata": {
    "pythonIndentUnit": 4
   },
   "notebookName": "Retail sales end to end project",
   "widgets": {}
  },
  "language_info": {
   "name": "python"
  }
 },
 "nbformat": 4,
 "nbformat_minor": 0
}
